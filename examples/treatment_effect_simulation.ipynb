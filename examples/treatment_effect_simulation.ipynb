{
    "cells": [
     {
      "cell_type": "markdown",
      "metadata": {},
      "source": [
       "# Treatment Effect Simulation with CausalLLM"
      ]
     },
     {
      "cell_type": "code",
      "execution_count": null,
      "metadata": {},
      "outputs": [],
      "source": [
       "from causalllm.prompt_templates import PromptTemplates\n",
       "from integrations.openai_adapter import query_openai\n\n",
       "prompt = PromptTemplates.treatment_effect_estimation(\n",
       "    context=\"A/B test for email marketing\",\n",
       "    treatment=\"sending a discount coupon\",\n",
       "    outcome=\"user purchase\"\n",
       ")\n",
       "response = query_openai(prompt)\n",
       "print(response)"
      ]
     }
    ],
    "metadata": {},
    "nbformat": 4,
    "nbformat_minor": 5
   }
   