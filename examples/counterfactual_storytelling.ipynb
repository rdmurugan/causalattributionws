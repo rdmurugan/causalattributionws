{
    "cells": [
     {
      "cell_type": "markdown",
      "metadata": {},
      "source": [
       "# Counterfactual Storytelling with CausalLLM"
      ]
     },
     {
      "cell_type": "code",
      "execution_count": null,
      "metadata": {},
      "outputs": [],
      "source": [
       "from causalllm.counterfactual_engine import CounterfactualEngine\n\n",
       "engine = CounterfactualEngine()\n",
       "response = engine.simulate_counterfactual(\n",
       "    context=\"A student was preparing for an exam.\",\n",
       "    factual=\"The student did not study and failed the test.\",\n",
       "    intervention=\"The student studied hard every day.\"\n",
       ")\n",
       "print(response)"
      ]
     }
    ],
    "metadata": {},
    "nbformat": 4,
    "nbformat_minor": 5
   }
   